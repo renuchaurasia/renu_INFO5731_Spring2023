{
  "cells": [
    {
      "cell_type": "markdown",
      "metadata": {
        "id": "view-in-github",
        "colab_type": "text"
      },
      "source": [
        "<a href=\"https://colab.research.google.com/github/renuchaurasia/renu_INFO5731_Spring2023/blob/main/Assignment/INFO5731_Assignment_One.ipynb\" target=\"_parent\"><img src=\"https://colab.research.google.com/assets/colab-badge.svg\" alt=\"Open In Colab\"/></a>"
      ]
    },
    {
      "cell_type": "markdown",
      "metadata": {
        "id": "Ryk8D1Q4Wsrp"
      },
      "source": [
        "# **INFO5731 Assignment One**"
      ]
    },
    {
      "cell_type": "markdown",
      "metadata": {
        "id": "90_NR8c5XGWc"
      },
      "source": [
        "# Question 1\n",
        "\n",
        "(20 points). Write a Python program to generate 12 random numbers between 1 and 100. Sort the list of numbers in ascending order and print it out. Sort the list of numbers in descending order and print it out. Calculate the average for the group and print it out."
      ]
    },
    {
      "cell_type": "code",
      "execution_count": 1,
      "metadata": {
        "colab": {
          "base_uri": "https://localhost:8080/"
        },
        "id": "5QX6bJjGWXY9",
        "outputId": "f371bc44-d4a2-49f5-f98d-c17b7aca4895"
      },
      "outputs": [
        {
          "output_type": "stream",
          "name": "stdout",
          "text": [
            "12\n",
            "[5, 71, 26, 26, 93, 96, 98, 58, 65, 51, 57, 71]\n",
            "Sorting list of Integers in ascending: \n",
            "[5, 26, 26, 51, 57, 58, 65, 71, 71, 93, 96, 98]\n",
            "Sorting list of Integers in descending: \n",
            "[98, 96, 93, 71, 71, 65, 58, 57, 51, 26, 26, 5]\n",
            "The Average of both lists is : 59.75\n"
          ]
        }
      ],
      "source": [
        "# Your code here\n",
        "import random \n",
        "\n",
        "def makeRandomList(start, end, num):\n",
        "    res = []\n",
        " \n",
        "    for j in range(num):\n",
        "        res.append(random.randint(start, end))\n",
        " \n",
        "    return res\n",
        "\n",
        "def sortedList():\n",
        "    random_num = 12  \n",
        "    print(random_num)  \n",
        "    start = 1\n",
        "    end = 100\n",
        "    unsorted_list = makeRandomList(start, end, random_num)\n",
        "    print(unsorted_list)\n",
        "    # Sorting list of Integers in ascending\n",
        "    sorted_list = sorted(unsorted_list)\n",
        "    print(\"Sorting list of Integers in ascending: \\n\"+ str(sorted_list))\n",
        "    # Sorting list of Integers in descending\n",
        "    sorted_list_desc = sorted(unsorted_list, reverse = True)\n",
        "    print(\"Sorting list of Integers in descending: \\n\"+ str(sorted_list_desc))\n",
        "\n",
        "    res = sum(sorted_list + sorted_list_desc) / len(sorted_list + sorted_list_desc)\n",
        " \n",
        "    # printing result\n",
        "    print (\"The Average of both lists is : \" + str(res))\n",
        "\n",
        "\n",
        "sortedList()\n"
      ]
    },
    {
      "cell_type": "markdown",
      "metadata": {
        "id": "1F_PZdH9Sh49"
      },
      "source": [
        "# Question 2\n",
        "(25 points). Write a program that will do the following string formatting tasks:\n",
        "\n",
        "(1) Ask the user to enter two sentences.\n",
        "\n",
        "(2) Make each sentence into a list. Each element in the list should correspond to a word in the sentence. For example, if the sentence is \"Alas! Am I alive? This is my first python program\", the program should print out ['Alas, '!', 'Am', 'I', 'alive, '?', 'This', 'is', 'my', 'first', 'python', 'program'].\n",
        "\n",
        "(3) Compare the two sentences. Print out a list of words that occur in both sentences.\n",
        "\n",
        "(4) Remove any punctuation from the sentence and print it back out. It should remove at least the following characters, but it can remove more: period(“.”), comma (“,”), semicolon (“;”), and colon (“:”)\n",
        "\n",
        "(5) Count the number of vowels in the sentences. Print out each vowel and the number of times it appears in the sentences, such as: a:2, e:1, i:0, etc"
      ]
    },
    {
      "cell_type": "code",
      "execution_count": 2,
      "metadata": {
        "colab": {
          "base_uri": "https://localhost:8080/"
        },
        "id": "Y0oOSlsOS0cq",
        "outputId": "f6b33945-c291-4766-8f2e-cc0a5963cf9f"
      },
      "outputs": [
        {
          "output_type": "stream",
          "name": "stdout",
          "text": [
            "Enter sentences1 :hello my name is Renu, how are you doing\n",
            "hello my name is Renu, how are you doing\n",
            "Enter sentences2 : hello my name is chaursia:\n",
            "hello my name is chaursia:\n",
            "Converting sentence into a list\n",
            "['hello', 'my', 'name', 'is', 'Renu,', 'how', 'are', 'you', 'doing']\n",
            "['hello', 'my', 'name', 'is', 'chaursia:']\n",
            "['name', 'my', 'is', 'hello']\n",
            "The string after punctuation filter : hello my name is Renu how are you doing\n",
            "{'a': 2, 'e': 4, 'i': 2, 'o': 4, 'u': 2}\n"
          ]
        }
      ],
      "source": [
        "\n",
        "sentences1 = input(\"Enter sentences1 :\")\n",
        "print(sentences1)\n",
        "sentences2 = input(\"Enter sentences2 : \")\n",
        "print(sentences2)\n",
        "\n",
        "# Printing type of input value\n",
        "def sentencesToList(sentences):\n",
        "    res = sentences.split()\n",
        "    return res\n",
        "\n",
        "def getCommonWordsFromList(list1, list2):\n",
        "    return list(set(list1) & set(list2))\n",
        "\n",
        "def removePunctuation(sentence):\n",
        "    punc = '''!()-[]{};:'\"\\,<>./?@#$%^&*_~'''\n",
        " \n",
        "    # Removing punctuations in string\n",
        "    # Using loop + punctuation string\n",
        "    for ele in sentence:\n",
        "        if ele in punc:\n",
        "            sentence = sentence.replace(ele, \"\")\n",
        "    \n",
        "    return sentence\n",
        " \n",
        "def Check_Vow(sentences, vowels):\n",
        "    sentences = sentences.casefold()\n",
        "\n",
        "    count = {}.fromkeys(vowels, 0)\n",
        "     \n",
        "    # To count the vowels\n",
        "    for i in sentences:\n",
        "        if i in count:\n",
        "            count[i] += 1   \n",
        "    return count\n",
        "\n",
        "\n",
        "def main():\n",
        "    print(\"Converting sentence into a list\")\n",
        "    res1 = sentencesToList(sentences1)\n",
        "    print(res1)\n",
        "\n",
        "    res2 = sentencesToList(sentences2)\n",
        "    print(res2)\n",
        "\n",
        "    res = getCommonWordsFromList(res1, res2)\n",
        "    print(res)\n",
        "\n",
        "    # printing result\n",
        "    print(\"The string after punctuation filter : \" + removePunctuation(sentences1))\n",
        "\n",
        "    # Driver Code\n",
        "    vowels = 'aeiou'\n",
        "    print (Check_Vow(sentences1, vowels))\n",
        "\n",
        "main()"
      ]
    },
    {
      "cell_type": "markdown",
      "metadata": {
        "id": "CmFoI4jDS9nx"
      },
      "source": [
        "# Question 3 \n",
        "\n",
        "(15 points). The formula that describes the volume V of a sphere with radius r is the following:\n",
        "\n",
        "$ V=\\frac{4}{3}\\ast\\ \\pi\\ast\\ r^3 $\n",
        "\n",
        "Write a program to calculate the value of V when r is in the range of 1–10. Output the result in the following format:\n",
        "\n",
        "\tr\tV\n",
        "\t1\t…\n",
        "\t2\t…\n",
        "\t3\t…\n"
      ]
    },
    {
      "cell_type": "code",
      "execution_count": 3,
      "metadata": {
        "colab": {
          "base_uri": "https://localhost:8080/"
        },
        "id": "pEyqeioAT95b",
        "outputId": "29ae2333-7045-456e-a6e8-469c6d0f2581"
      },
      "outputs": [
        {
          "output_type": "stream",
          "name": "stdout",
          "text": [
            "r \t\tV\n",
            "1\t 4.1887902047863905\n",
            "2\t 33.510321638291124\n",
            "3\t 113.09733552923254\n",
            "4\t 268.082573106329\n",
            "5\t 523.5987755982989\n",
            "6\t 904.7786842338603\n",
            "7\t 1436.7550402417319\n",
            "8\t 2144.660584850632\n",
            "9\t 3053.6280592892786\n",
            "10\t 4188.790204786391\n"
          ]
        }
      ],
      "source": [
        "# Your code here\n",
        "pi = 3.1415926535897931\n",
        "def volume():\n",
        "    for r in range(1,11):\n",
        "        V= 4.0/3.0*pi* r**3\n",
        "        print(str(r) + \"\\t \" + str(V))\n",
        "\n",
        "print(\"r\" + \" \\t\\t\" + \"V\")\n",
        "volume()\n"
      ]
    },
    {
      "cell_type": "markdown",
      "metadata": {
        "id": "z3tBE7E-Xn5X"
      },
      "source": [
        "# Question 4\n",
        "\n",
        "(40 points). In the field of Data Science, data is often formatted as a comma-delimited (CSV) file, where each line in a file corresponds to a field's value. Refer to Chapter 9 (p. 106) for more information on comma-delimited files. To answer this question, you will need to download the file [Assignment1_denton_housing.csv](https://raw.githubusercontent.com/unt-iialab/info5731-spring2022/main/assignments/Assignment1_denton_housing.csv) included with this assignment. The file [Assignment1_denton_housing.csv](https://raw.githubusercontent.com/unt-iialab/info5731-spring2022/main/assignments/Assignment1_denton_housing.csv) contains statistics about housing in the city of Denton from 2008 to 2014. Write a program to implement the following questions.\n",
        "\n",
        "(1) (10 pts) Calculate the difference in the number of Occupied Housing Units from year to year and print it. The difference must be calculated for the consecutive years such as 2008-2009, 2009-2010 etc. Finally, print the values in the ascending order.\n",
        "\n",
        "(2) (10 pts) For all the years, calculate the percentage of housing units which are vacant an occupied. Print the results in the following format:\n",
        "\n",
        "Year Vacant Housing Units Occupied Housing Units\n",
        "\n",
        "    2008  30%   70%                          \n",
        "\t2009 ----- -----\n",
        "\t2010 ----- -----\n",
        "    2011 ----- -----\n",
        "\t2012 ----- -----\n",
        "    2013 ----- -----\n",
        "\t2014 ----- -----\n",
        "  \n",
        "  \n",
        "\n",
        "(3) (10 pts) Calculate and print the valued and years in which the highest number of housing units were vacant and occupied. Print the results in the following format:  \n",
        "\n",
        "                              Year\tValue\n",
        "\tVacant Housing Units\t  -----   -----\n",
        "\tOccupied Housing Units\t-----   -----\n",
        "\n",
        "(4) (10 pts) Calculate the harmonic mean of the total housing units and print it out. You can find the information about harmonic mean here: https://ncalculators.com/statistics/harmonic-mean-calculator.htm"
      ]
    },
    {
      "cell_type": "code",
      "execution_count": 12,
      "metadata": {
        "colab": {
          "base_uri": "https://localhost:8080/"
        },
        "id": "lqGYuHBhcsRH",
        "outputId": "4f5b1f94-73f1-45d7-c619-74182751dead"
      },
      "outputs": [
        {
          "output_type": "stream",
          "name": "stdout",
          "text": [
            "    year             title_field  value  consecutive_diff\n",
            "20  2008  Occupied Housing Units  36711             795.0\n",
            "17  2009  Occupied Housing Units  35916           -5091.0\n",
            "14  2010  Occupied Housing Units  41007             303.0\n",
            "11  2011  Occupied Housing Units  40704           -1404.0\n",
            "8   2012  Occupied Housing Units  42108           -1565.0\n",
            "5   2013  Occupied Housing Units  43673           -2622.0\n",
            "2   2014  Occupied Housing Units  46295               NaN\n"
          ]
        }
      ],
      "source": [
        "# Your code here\n",
        "\n",
        "#1\n",
        "\n",
        "import pandas as pd\n",
        "\n",
        "df = pd.read_csv('/content/sample_data/Assignment1_denton_housing.csv')\n",
        "\n",
        "# print(df.to_string()) \n",
        "\n",
        "def consecutiveDiff(df):\n",
        "\n",
        "    rs = df[df['title_field'] == 'Occupied Housing Units'].sort_values(by=['year'])\n",
        "    rs['consecutive_diff'] = rs['value'] - rs['value'].shift(-1)\n",
        "    print(rs)\n",
        "\n",
        "consecutiveDiff(df)\n"
      ]
    },
    {
      "cell_type": "code",
      "execution_count": 15,
      "metadata": {
        "colab": {
          "base_uri": "https://localhost:8080/"
        },
        "id": "UuHwpeec6sus",
        "outputId": "d88830ed-eb15-4ea0-c828-cfa163165c83"
      },
      "outputs": [
        {
          "output_type": "stream",
          "name": "stdout",
          "text": [
            "year\tVacant Housing Units\tOccupied Housing Units\n",
            "2008\t10.88%\t\t\t89.12%\n",
            "2009\t9.07%\t\t\t90.93%\n",
            "2010\t8.14%\t\t\t91.86%\n",
            "2011\t9.38%\t\t\t90.62%\n",
            "2012\t6.68%\t\t\t93.32%\n",
            "2013\t8.8%\t\t\t91.2%\n",
            "2014\t5.73%\t\t\t94.27%\n"
          ]
        }
      ],
      "source": [
        "#2\n",
        "# df = df.set_index('year')\n",
        "print('year', 'Vacant Housing Units', 'Occupied Housing Units', sep='\\t')\n",
        "\n",
        "df_new = df.set_index('year')\n",
        "for year in range(2008, 2015):\n",
        "    vacant_per = ((df_new[df_new['title_field']=='Vacant Housing Units']['value'][year]) \n",
        "      / (df_new[df_new['title_field']=='Total Housing Units']['value'][year]))*100\n",
        "    occupied_per = ((df_new[df_new['title_field']=='Occupied Housing Units']['value'][year]) \n",
        "      / (df_new[df_new['title_field']=='Total Housing Units']['value'][year] ))*100\n",
        "\n",
        "    print(year, str(round(vacant_per,2))+'%\\t\\t', str(round(occupied_per,2))+'%', sep='\\t')"
      ]
    },
    {
      "cell_type": "code",
      "source": [
        "#3\n",
        "vacant_value = df[df['title_field']=='Vacant Housing Units'][ 'value'].max()\n",
        "vacant_year = df[(df['title_field']=='Vacant Housing Units') & (df['value']==vacant_value)]['year'].iloc[0]\n",
        "\n",
        "occupied_value = df[df['title_field']=='Occupied Housing Units'][ 'value'].max()\n",
        "occupied_year = df[(df['title_field']=='Occupied Housing Units') & (df['value']==occupied_value)]['year'].iloc[0]\n",
        "\n",
        "print('\\t\\t', 'Year', 'Value', sep='\\t')\n",
        "print('Vacant Housing Units', vacant_year, vacant_value, sep='\\t')\n",
        "print('Occupied Housing Units', occupied_year, occupied_value, sep='\\t')"
      ],
      "metadata": {
        "colab": {
          "base_uri": "https://localhost:8080/"
        },
        "id": "VZDK_NAf9Dp-",
        "outputId": "0952c627-c87d-4f2a-fcc7-a144f10700e7"
      },
      "execution_count": 19,
      "outputs": [
        {
          "output_type": "stream",
          "name": "stdout",
          "text": [
            "\t\t\tYear\tValue\n",
            "Vacant Housing Units\t2008\t4483\n",
            "Occupied Housing Units\t2014\t46295\n"
          ]
        }
      ]
    },
    {
      "cell_type": "code",
      "source": [
        "#4\n",
        "sum = 0\n",
        "length = len(df_new[df_new['title_field']=='Total Housing Units']['value'])\n",
        "for year in range(2008,2015):\n",
        "    sum += 1/( df_new[df_new['title_field']=='Total Housing Units']['value'][year])\n",
        "    \n",
        "print(\"Harmonic: \", (length/sum))"
      ],
      "metadata": {
        "colab": {
          "base_uri": "https://localhost:8080/"
        },
        "id": "LH4bFMjg-Q04",
        "outputId": "0a18e040-0e89-4c23-aeba-e01bf8f45f9a"
      },
      "execution_count": 18,
      "outputs": [
        {
          "output_type": "stream",
          "name": "stdout",
          "text": [
            "Harmonic:  44398.28543969185\n"
          ]
        }
      ]
    }
  ],
  "metadata": {
    "colab": {
      "provenance": [],
      "include_colab_link": true
    },
    "kernelspec": {
      "display_name": "Python 3",
      "language": "python",
      "name": "python3"
    },
    "language_info": {
      "codemirror_mode": {
        "name": "ipython",
        "version": 3
      },
      "file_extension": ".py",
      "mimetype": "text/x-python",
      "name": "python",
      "nbconvert_exporter": "python",
      "pygments_lexer": "ipython3",
      "version": "3.7.7"
    },
    "vscode": {
      "interpreter": {
        "hash": "c5f8f379d90e93d41b0750002e16acd665ca35ef2d477cfa8d1f4ac9754ac95e"
      }
    }
  },
  "nbformat": 4,
  "nbformat_minor": 0
}