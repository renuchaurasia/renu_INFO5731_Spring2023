{
  "nbformat": 4,
  "nbformat_minor": 0,
  "metadata": {
    "colab": {
      "provenance": [],
      "include_colab_link": true
    },
    "kernelspec": {
      "name": "python3",
      "display_name": "Python 3"
    },
    "language_info": {
      "name": "python"
    }
  },
  "cells": [
    {
      "cell_type": "markdown",
      "metadata": {
        "id": "view-in-github",
        "colab_type": "text"
      },
      "source": [
        "<a href=\"https://colab.research.google.com/github/renuchaurasia/renu_INFO5731_Spring2023/blob/main/project_info5731/Predicted_Visual.ipynb\" target=\"_parent\"><img src=\"https://colab.research.google.com/assets/colab-badge.svg\" alt=\"Open In Colab\"/></a>"
      ]
    },
    {
      "cell_type": "code",
      "execution_count": null,
      "metadata": {
        "id": "UzTNvFKw4Kwj"
      },
      "outputs": [],
      "source": [
        "import pandas as pd\n",
        "import numpy as np\n",
        "\n",
        "import matplotlib.pyplot as plt"
      ]
    },
    {
      "cell_type": "code",
      "source": [
        "from google.colab import drive\n",
        "drive.mount('/content/drive')"
      ],
      "metadata": {
        "colab": {
          "base_uri": "https://localhost:8080/"
        },
        "id": "JzmEcAJl7UwN",
        "outputId": "8a493b29-6158-4038-b192-9f3150887053"
      },
      "execution_count": null,
      "outputs": [
        {
          "output_type": "stream",
          "name": "stdout",
          "text": [
            "Drive already mounted at /content/drive; to attempt to forcibly remount, call drive.mount(\"/content/drive\", force_remount=True).\n"
          ]
        }
      ]
    },
    {
      "cell_type": "code",
      "source": [
        "%ls"
      ],
      "metadata": {
        "colab": {
          "base_uri": "https://localhost:8080/"
        },
        "id": "LmzHuB1M7k-V",
        "outputId": "896d06af-aefb-4935-d50d-1b133df64a5d"
      },
      "execution_count": null,
      "outputs": [
        {
          "output_type": "stream",
          "name": "stdout",
          "text": [
            "\u001b[0m\u001b[01;34mdrive\u001b[0m/  \u001b[01;34msample_data\u001b[0m/\n"
          ]
        }
      ]
    },
    {
      "cell_type": "code",
      "source": [
        "%cd drive/MyDrive"
      ],
      "metadata": {
        "colab": {
          "base_uri": "https://localhost:8080/"
        },
        "id": "ojDC3pOn7mab",
        "outputId": "f2781b84-bf84-468f-824f-b8b84dbc10bd"
      },
      "execution_count": null,
      "outputs": [
        {
          "output_type": "stream",
          "name": "stdout",
          "text": [
            "/content/drive/MyDrive\n"
          ]
        }
      ]
    },
    {
      "cell_type": "code",
      "source": [
        "%ls"
      ],
      "metadata": {
        "colab": {
          "base_uri": "https://localhost:8080/"
        },
        "id": "vX6wHP4y7poS",
        "outputId": "3837f249-6af2-4064-c123-c4aa757b2c9d"
      },
      "execution_count": null,
      "outputs": [
        {
          "output_type": "stream",
          "name": "stdout",
          "text": [
            "'After cleaning data.csv'                 final_predicted_csv.csv\n",
            " Amazon_Unlocked_Mobile.csv              'Jan31_first 100.xlsx'\n",
            " Assignment1_denton_housing.csv           NR_2019DEC15.csv\n",
            " classification_test.csv                  NR_2019DEC31.csv\n",
            " classification_train.csv                 NR_2020JAN15.csv\n",
            "'cleaned china data aspect'               NR_2020JAN31.csv\n",
            "'cleaned china test data aspect.csv'      regression_test.csv\n",
            "'cleaned china trained data aspect.csv'   regression_train.csv\n",
            " cleaned_predict_text.csv                 stsa-test.txt\n",
            " cleaned_test_text.csv                    stsa-train.txt\n",
            " cleaned_train_text.csv                   test.csv\n",
            "\u001b[0m\u001b[01;34m'Colab Notebooks'\u001b[0m/                        train.csv\n"
          ]
        }
      ]
    },
    {
      "cell_type": "code",
      "source": [
        "pred_data = pd.read_csv(\"final_predicted_csv.csv\")\n",
        "pred_data.head()"
      ],
      "metadata": {
        "colab": {
          "base_uri": "https://localhost:8080/",
          "height": 354
        },
        "id": "he-Evxe55lhU",
        "outputId": "4e7bbe0c-04a3-4321-a271-bd48e7eecbe5"
      },
      "execution_count": null,
      "outputs": [
        {
          "output_type": "execute_result",
          "data": {
            "text/plain": [
              "      Date       Domain Page Type  \\\n",
              "0  00:23.0  twitter.com   twitter   \n",
              "1  00:22.0  twitter.com   twitter   \n",
              "2  00:14.0  twitter.com   twitter   \n",
              "3  00:14.0  twitter.com   twitter   \n",
              "4  00:04.0  twitter.com   twitter   \n",
              "\n",
              "                                               Tweet  Country Character  \\\n",
              "0  amanpuri exchange highest referral fee industr...                 -1   \n",
              "1  coronavirus spreads must continue take necessa...                 -1   \n",
              "2  our sin accepted islam we re religious family ...                 -1   \n",
              "3  people want know like empty mall china coronav...                 -1   \n",
              "4  confirmed coronavirus cases xinjiang highlight...                 -1   \n",
              "\n",
              "   Country Competence  People Character  People Competence Sentiment  \n",
              "0                  -1                -1                 -1   neutral  \n",
              "1                  -1                -1                 -1   neutral  \n",
              "2                  -1                -1                 -1   neutral  \n",
              "3                  -1                -1                 -1  negative  \n",
              "4                  -1                -1                 -1   neutral  "
            ],
            "text/html": [
              "\n",
              "  <div id=\"df-97ad27ad-d1fa-4e46-b2cd-50fb3c013d27\">\n",
              "    <div class=\"colab-df-container\">\n",
              "      <div>\n",
              "<style scoped>\n",
              "    .dataframe tbody tr th:only-of-type {\n",
              "        vertical-align: middle;\n",
              "    }\n",
              "\n",
              "    .dataframe tbody tr th {\n",
              "        vertical-align: top;\n",
              "    }\n",
              "\n",
              "    .dataframe thead th {\n",
              "        text-align: right;\n",
              "    }\n",
              "</style>\n",
              "<table border=\"1\" class=\"dataframe\">\n",
              "  <thead>\n",
              "    <tr style=\"text-align: right;\">\n",
              "      <th></th>\n",
              "      <th>Date</th>\n",
              "      <th>Domain</th>\n",
              "      <th>Page Type</th>\n",
              "      <th>Tweet</th>\n",
              "      <th>Country Character</th>\n",
              "      <th>Country Competence</th>\n",
              "      <th>People Character</th>\n",
              "      <th>People Competence</th>\n",
              "      <th>Sentiment</th>\n",
              "    </tr>\n",
              "  </thead>\n",
              "  <tbody>\n",
              "    <tr>\n",
              "      <th>0</th>\n",
              "      <td>00:23.0</td>\n",
              "      <td>twitter.com</td>\n",
              "      <td>twitter</td>\n",
              "      <td>amanpuri exchange highest referral fee industr...</td>\n",
              "      <td>-1</td>\n",
              "      <td>-1</td>\n",
              "      <td>-1</td>\n",
              "      <td>-1</td>\n",
              "      <td>neutral</td>\n",
              "    </tr>\n",
              "    <tr>\n",
              "      <th>1</th>\n",
              "      <td>00:22.0</td>\n",
              "      <td>twitter.com</td>\n",
              "      <td>twitter</td>\n",
              "      <td>coronavirus spreads must continue take necessa...</td>\n",
              "      <td>-1</td>\n",
              "      <td>-1</td>\n",
              "      <td>-1</td>\n",
              "      <td>-1</td>\n",
              "      <td>neutral</td>\n",
              "    </tr>\n",
              "    <tr>\n",
              "      <th>2</th>\n",
              "      <td>00:14.0</td>\n",
              "      <td>twitter.com</td>\n",
              "      <td>twitter</td>\n",
              "      <td>our sin accepted islam we re religious family ...</td>\n",
              "      <td>-1</td>\n",
              "      <td>-1</td>\n",
              "      <td>-1</td>\n",
              "      <td>-1</td>\n",
              "      <td>neutral</td>\n",
              "    </tr>\n",
              "    <tr>\n",
              "      <th>3</th>\n",
              "      <td>00:14.0</td>\n",
              "      <td>twitter.com</td>\n",
              "      <td>twitter</td>\n",
              "      <td>people want know like empty mall china coronav...</td>\n",
              "      <td>-1</td>\n",
              "      <td>-1</td>\n",
              "      <td>-1</td>\n",
              "      <td>-1</td>\n",
              "      <td>negative</td>\n",
              "    </tr>\n",
              "    <tr>\n",
              "      <th>4</th>\n",
              "      <td>00:04.0</td>\n",
              "      <td>twitter.com</td>\n",
              "      <td>twitter</td>\n",
              "      <td>confirmed coronavirus cases xinjiang highlight...</td>\n",
              "      <td>-1</td>\n",
              "      <td>-1</td>\n",
              "      <td>-1</td>\n",
              "      <td>-1</td>\n",
              "      <td>neutral</td>\n",
              "    </tr>\n",
              "  </tbody>\n",
              "</table>\n",
              "</div>\n",
              "      <button class=\"colab-df-convert\" onclick=\"convertToInteractive('df-97ad27ad-d1fa-4e46-b2cd-50fb3c013d27')\"\n",
              "              title=\"Convert this dataframe to an interactive table.\"\n",
              "              style=\"display:none;\">\n",
              "        \n",
              "  <svg xmlns=\"http://www.w3.org/2000/svg\" height=\"24px\"viewBox=\"0 0 24 24\"\n",
              "       width=\"24px\">\n",
              "    <path d=\"M0 0h24v24H0V0z\" fill=\"none\"/>\n",
              "    <path d=\"M18.56 5.44l.94 2.06.94-2.06 2.06-.94-2.06-.94-.94-2.06-.94 2.06-2.06.94zm-11 1L8.5 8.5l.94-2.06 2.06-.94-2.06-.94L8.5 2.5l-.94 2.06-2.06.94zm10 10l.94 2.06.94-2.06 2.06-.94-2.06-.94-.94-2.06-.94 2.06-2.06.94z\"/><path d=\"M17.41 7.96l-1.37-1.37c-.4-.4-.92-.59-1.43-.59-.52 0-1.04.2-1.43.59L10.3 9.45l-7.72 7.72c-.78.78-.78 2.05 0 2.83L4 21.41c.39.39.9.59 1.41.59.51 0 1.02-.2 1.41-.59l7.78-7.78 2.81-2.81c.8-.78.8-2.07 0-2.86zM5.41 20L4 18.59l7.72-7.72 1.47 1.35L5.41 20z\"/>\n",
              "  </svg>\n",
              "      </button>\n",
              "      \n",
              "  <style>\n",
              "    .colab-df-container {\n",
              "      display:flex;\n",
              "      flex-wrap:wrap;\n",
              "      gap: 12px;\n",
              "    }\n",
              "\n",
              "    .colab-df-convert {\n",
              "      background-color: #E8F0FE;\n",
              "      border: none;\n",
              "      border-radius: 50%;\n",
              "      cursor: pointer;\n",
              "      display: none;\n",
              "      fill: #1967D2;\n",
              "      height: 32px;\n",
              "      padding: 0 0 0 0;\n",
              "      width: 32px;\n",
              "    }\n",
              "\n",
              "    .colab-df-convert:hover {\n",
              "      background-color: #E2EBFA;\n",
              "      box-shadow: 0px 1px 2px rgba(60, 64, 67, 0.3), 0px 1px 3px 1px rgba(60, 64, 67, 0.15);\n",
              "      fill: #174EA6;\n",
              "    }\n",
              "\n",
              "    [theme=dark] .colab-df-convert {\n",
              "      background-color: #3B4455;\n",
              "      fill: #D2E3FC;\n",
              "    }\n",
              "\n",
              "    [theme=dark] .colab-df-convert:hover {\n",
              "      background-color: #434B5C;\n",
              "      box-shadow: 0px 1px 3px 1px rgba(0, 0, 0, 0.15);\n",
              "      filter: drop-shadow(0px 1px 2px rgba(0, 0, 0, 0.3));\n",
              "      fill: #FFFFFF;\n",
              "    }\n",
              "  </style>\n",
              "\n",
              "      <script>\n",
              "        const buttonEl =\n",
              "          document.querySelector('#df-97ad27ad-d1fa-4e46-b2cd-50fb3c013d27 button.colab-df-convert');\n",
              "        buttonEl.style.display =\n",
              "          google.colab.kernel.accessAllowed ? 'block' : 'none';\n",
              "\n",
              "        async function convertToInteractive(key) {\n",
              "          const element = document.querySelector('#df-97ad27ad-d1fa-4e46-b2cd-50fb3c013d27');\n",
              "          const dataTable =\n",
              "            await google.colab.kernel.invokeFunction('convertToInteractive',\n",
              "                                                     [key], {});\n",
              "          if (!dataTable) return;\n",
              "\n",
              "          const docLinkHtml = 'Like what you see? Visit the ' +\n",
              "            '<a target=\"_blank\" href=https://colab.research.google.com/notebooks/data_table.ipynb>data table notebook</a>'\n",
              "            + ' to learn more about interactive tables.';\n",
              "          element.innerHTML = '';\n",
              "          dataTable['output_type'] = 'display_data';\n",
              "          await google.colab.output.renderOutput(dataTable, element);\n",
              "          const docLink = document.createElement('div');\n",
              "          docLink.innerHTML = docLinkHtml;\n",
              "          element.appendChild(docLink);\n",
              "        }\n",
              "      </script>\n",
              "    </div>\n",
              "  </div>\n",
              "  "
            ]
          },
          "metadata": {},
          "execution_count": 7
        }
      ]
    },
    {
      "cell_type": "code",
      "source": [
        "pred_data['Country Character'].value_counts()"
      ],
      "metadata": {
        "colab": {
          "base_uri": "https://localhost:8080/"
        },
        "id": "DjAtVZLA6S-n",
        "outputId": "732013c3-83c5-474b-def4-bdbacffc3f3f"
      },
      "execution_count": null,
      "outputs": [
        {
          "output_type": "execute_result",
          "data": {
            "text/plain": [
              "-1    1000\n",
              "Name: Country Character, dtype: int64"
            ]
          },
          "metadata": {},
          "execution_count": 8
        }
      ]
    },
    {
      "cell_type": "code",
      "source": [
        "pred_data['Country Competence'].value_counts()"
      ],
      "metadata": {
        "colab": {
          "base_uri": "https://localhost:8080/"
        },
        "id": "a14-bXQ66TCJ",
        "outputId": "e1cdc146-4a2f-4bf6-a48a-5601bc61d817"
      },
      "execution_count": null,
      "outputs": [
        {
          "output_type": "execute_result",
          "data": {
            "text/plain": [
              "-1    1000\n",
              "Name: Country Competence, dtype: int64"
            ]
          },
          "metadata": {},
          "execution_count": 9
        }
      ]
    },
    {
      "cell_type": "code",
      "source": [
        "pred_data['People Character'].value_counts()"
      ],
      "metadata": {
        "colab": {
          "base_uri": "https://localhost:8080/"
        },
        "id": "6HDNlT0X6TRD",
        "outputId": "414a3c2c-afc9-44a8-da1d-d5b07f41987d"
      },
      "execution_count": null,
      "outputs": [
        {
          "output_type": "execute_result",
          "data": {
            "text/plain": [
              "-1    1000\n",
              "Name: People Character, dtype: int64"
            ]
          },
          "metadata": {},
          "execution_count": 10
        }
      ]
    },
    {
      "cell_type": "code",
      "source": [
        "pred_data['People Competence'].value_counts()"
      ],
      "metadata": {
        "colab": {
          "base_uri": "https://localhost:8080/"
        },
        "id": "aGv75WFj6sZI",
        "outputId": "b07d213c-43fa-4d04-cc46-5369a6f0a281"
      },
      "execution_count": null,
      "outputs": [
        {
          "output_type": "execute_result",
          "data": {
            "text/plain": [
              "-1    1000\n",
              "Name: People Competence, dtype: int64"
            ]
          },
          "metadata": {},
          "execution_count": 11
        }
      ]
    },
    {
      "cell_type": "code",
      "source": [
        "import matplotlib.pyplot as plt\n",
        "\n",
        "\n",
        "fig = plt.figure(figsize = (12, 10))\n",
        "plt.subplot(2, 2, 1)\n",
        "data = {'Positive':0, 'Negative':1000, 'Neutral':0}\n",
        "courses = list(data.keys())\n",
        "values = list(data.values())\n",
        "\n",
        "# creating the bar plot\n",
        "plt.bar(courses, values, color ='maroon',\n",
        "        width = 0.4)\n",
        "\n",
        "plt.xlabel(\"Sentiments\")\n",
        "plt.ylabel(\"Sentiment count\")\n",
        "plt.title(\"Country Character Sentiments\")\n",
        "\n",
        "# ====================================================================\n",
        "plt.subplot(2,2,2)\n",
        "data = {'Positive':0, 'Negative':1000, 'Neutral':0}\n",
        "courses = list(data.keys())\n",
        "values = list(data.values())\n",
        "\n",
        "# creating the bar plot\n",
        "plt.bar(courses, values, color ='green',\n",
        "        width = 0.4)\n",
        "\n",
        "plt.xlabel(\"Sentiments\")\n",
        "plt.ylabel(\"Sentiment count\")\n",
        "plt.title(\"Country Competence Sentiments\")\n",
        "\n",
        "# ==================================================================\n",
        "plt.subplot(2,2,3)\n",
        "data = {'Positive':0, 'Negative':1000, 'Neutral':0}\n",
        "courses = list(data.keys())\n",
        "values = list(data.values())\n",
        "\n",
        "# creating the bar plot\n",
        "plt.bar(courses, values, color ='blue',\n",
        "        width = 0.4)\n",
        "\n",
        "plt.xlabel(\"Sentiments\")\n",
        "plt.ylabel(\"Sentiment count\")\n",
        "plt.title(\"People Character Sentiments\")\n",
        "\n",
        "# ===================================================================\n",
        "plt.subplot(2,2,4)\n",
        "data = {'Positive':0, 'Negative':1000, 'Neutral':0}\n",
        "courses = list(data.keys())\n",
        "values = list(data.values())\n",
        "\n",
        "# creating the bar plot\n",
        "plt.bar(courses, values, color ='grey',\n",
        "        width = 0.4)\n",
        "\n",
        "plt.xlabel(\"Sentiments\")\n",
        "plt.ylabel(\"Sentiment count\")\n",
        "plt.title(\"People Competence Sentiments\")\n",
        "\n",
        "plt.suptitle(\"Sentiment Analysis\")\n",
        "plt.show()"
      ],
      "metadata": {
        "colab": {
          "base_uri": "https://localhost:8080/",
          "height": 950
        },
        "id": "Yyv9vKDf5xue",
        "outputId": "8d8afeef-8d82-47d9-bb91-bf7ec47f6a79"
      },
      "execution_count": null,
      "outputs": [
        {
          "output_type": "display_data",
          "data": {
            "text/plain": [
              "<Figure size 1200x1000 with 4 Axes>"
            ],
            "image/png": "[encoded data removed]"
          },
          "metadata": {}
        }
      ]
    },
    {
      "cell_type": "code",
      "source": [],
      "metadata": {
        "id": "VFD-I8o05x7O"
      },
      "execution_count": null,
      "outputs": []
    }
  ]
}